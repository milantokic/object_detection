{
 "cells": [
  {
   "cell_type": "code",
   "execution_count": 13,
   "id": "ea19eb9e",
   "metadata": {},
   "outputs": [],
   "source": [
    "import tensorflow as tf\n",
    "import matplotlib.pyplot as plt\n",
    "import numpy as np\n",
    "from matplotlib.patches import Rectangle\n",
    "import matplotlib.patches as patches"
   ]
  },
  {
   "cell_type": "code",
   "execution_count": 2,
   "id": "3ddbabc8",
   "metadata": {},
   "outputs": [],
   "source": [
    "(x_train, y_train), (x_test, y_test) = tf.keras.datasets.mnist.load_data()\n",
    "x_train = x_train.reshape(x_train.shape[0], 28, 28, 1)"
   ]
  },
  {
   "cell_type": "markdown",
   "id": "77f89e72",
   "metadata": {},
   "source": [
    "# Object Localization"
   ]
  },
  {
   "cell_type": "markdown",
   "id": "ba4db581",
   "metadata": {},
   "source": [
    "### Creation of the dataset"
   ]
  },
  {
   "cell_type": "markdown",
   "id": "384319e0",
   "metadata": {},
   "source": [
    "The dataset for the problem of Object Localization will be created by adding one image from MNIST data at a random point in the 128x128 canvas."
   ]
  },
  {
   "cell_type": "code",
   "execution_count": 3,
   "id": "18087eb6",
   "metadata": {},
   "outputs": [
    {
     "data": {
      "image/png": "[encoded data removed]",
      "text/plain": [
       "<Figure size 432x288 with 1 Axes>"
      ]
     },
     "metadata": {
      "needs_background": "light"
     },
     "output_type": "display_data"
    }
   ],
   "source": [
    "plt.imshow(x_train[0], cmap='gray')\n",
    "\n",
    "plt.show()"
   ]
  },
  {
   "cell_type": "code",
   "execution_count": 3,
   "id": "5adf81bf",
   "metadata": {},
   "outputs": [],
   "source": [
    "def digit_to_canvas(img):\n",
    "    rnd_row = np.random.randint(0, 100)\n",
    "    rnd_col = np.random.randint(0, 100)\n",
    "    canv = np.zeros((128, 128, 1))\n",
    "    canv[rnd_row:rnd_row + 28, rnd_col:rnd_col + 28] = img\n",
    "    return canv, (rnd_col + 14, rnd_row + 14)\n",
    "    \n",
    "\n",
    "def create_dataset(data, start_ind, end_ind):\n",
    "    new_dataset = []\n",
    "    labels = []\n",
    "    for i in range(start_ind, end_ind):\n",
    "        x_new, label = digit_to_canvas(data[i])\n",
    "        new_dataset.append(x_new)\n",
    "        labels.append(label)\n",
    "        labels = labels\n",
    "    return np.array(new_dataset), np.array(labels)/128."
   ]
  },
  {
   "cell_type": "code",
   "execution_count": 4,
   "id": "b049a344",
   "metadata": {},
   "outputs": [],
   "source": [
    "#Creating the training dataset\n",
    "x_train_new, y_train_pos = create_dataset(x_train, 0, 10000)\n",
    "y_train_dig = y_train[:len(x_train_new)]\n",
    "x_train_new = x_train_new / 255.0"
   ]
  },
  {
   "cell_type": "code",
   "execution_count": 5,
   "id": "9fef0e80",
   "metadata": {},
   "outputs": [],
   "source": [
    "#Creating the validation dataset\n",
    "x_test_new, y_test_pos = create_dataset(x_train, 10000, 11000)\n",
    "y_test_dig = y_train[10000:11000]\n",
    "x_test_new = x_test_new /255.0"
   ]
  },
  {
   "cell_type": "code",
   "execution_count": 6,
   "id": "c47dfade",
   "metadata": {},
   "outputs": [
    {
     "data": {
      "image/png": "[encoded data removed]",
      "text/plain": [
       "<Figure size 432x288 with 1 Axes>"
      ]
     },
     "metadata": {
      "needs_background": "light"
     },
     "output_type": "display_data"
    }
   ],
   "source": [
    "#Example of image where the green dot represents the ground truth for the object position\n",
    "plt.imshow(x_train_new[0], cmap='gray')\n",
    "plt.plot(y_train_pos[0][0] *128, y_train_pos[0][1] * 128, 'go')\n",
    "plt.show()"
   ]
  },
  {
   "cell_type": "code",
   "execution_count": 55,
   "id": "fd5e64ee",
   "metadata": {},
   "outputs": [],
   "source": [
    "#Creation of the model\n",
    "inputs = tf.keras.Input(shape=(128, 128, 1))\n",
    "x = tf.keras.layers.Conv2D(32, 3, activation=\"relu\")(inputs)\n",
    "x = tf.keras.layers.MaxPooling2D()(x)\n",
    "x = tf.keras.layers.Conv2D(64, 3, activation=\"relu\")(x)\n",
    "x = tf.keras.layers.MaxPooling2D()(x)\n",
    "x = tf.keras.layers.Conv2D(64, 3, activation=\"relu\")(x)\n",
    "x = tf.keras.layers.MaxPooling2D()(x)\n",
    "x = tf.keras.layers.Flatten()(x)\n",
    "\n",
    "classifier = tf.keras.layers.Dropout(0.3)(x)\n",
    "classifier = tf.keras.layers.Dense(10, activation='softmax', name='digit_output')(classifier)\n",
    "\n",
    "reg = tf.keras.layers.Dense(64, activation=\"relu\")(x)\n",
    "reg = tf.keras.layers.Dense(32, activation=\"relu\")(reg)\n",
    "reg = tf.keras.layers.Dense(2, activation='sigmoid', name='position_output')(reg)\n",
    "\n",
    "model = tf.keras.Model(inputs, [classifier, reg])"
   ]
  },
  {
   "cell_type": "code",
   "execution_count": 56,
   "id": "5e211388",
   "metadata": {},
   "outputs": [
    {
     "name": "stdout",
     "output_type": "stream",
     "text": [
      "Model: \"model_11\"\n",
      "__________________________________________________________________________________________________\n",
      " Layer (type)                   Output Shape         Param #     Connected to                     \n",
      "==================================================================================================\n",
      " input_13 (InputLayer)          [(None, 128, 128, 1  0           []                               \n",
      "                                )]                                                                \n",
      "                                                                                                  \n",
      " conv2d_34 (Conv2D)             (None, 126, 126, 32  320         ['input_13[0][0]']               \n",
      "                                )                                                                 \n",
      "                                                                                                  \n",
      " max_pooling2d_34 (MaxPooling2D  (None, 63, 63, 32)  0           ['conv2d_34[0][0]']              \n",
      " )                                                                                                \n",
      "                                                                                                  \n",
      " conv2d_35 (Conv2D)             (None, 61, 61, 64)   18496       ['max_pooling2d_34[0][0]']       \n",
      "                                                                                                  \n",
      " max_pooling2d_35 (MaxPooling2D  (None, 30, 30, 64)  0           ['conv2d_35[0][0]']              \n",
      " )                                                                                                \n",
      "                                                                                                  \n",
      " conv2d_36 (Conv2D)             (None, 28, 28, 64)   36928       ['max_pooling2d_35[0][0]']       \n",
      "                                                                                                  \n",
      " max_pooling2d_36 (MaxPooling2D  (None, 14, 14, 64)  0           ['conv2d_36[0][0]']              \n",
      " )                                                                                                \n",
      "                                                                                                  \n",
      " flatten_11 (Flatten)           (None, 12544)        0           ['max_pooling2d_36[0][0]']       \n",
      "                                                                                                  \n",
      " dense_13 (Dense)               (None, 64)           802880      ['flatten_11[0][0]']             \n",
      "                                                                                                  \n",
      " dropout_3 (Dropout)            (None, 12544)        0           ['flatten_11[0][0]']             \n",
      "                                                                                                  \n",
      " dense_14 (Dense)               (None, 32)           2080        ['dense_13[0][0]']               \n",
      "                                                                                                  \n",
      " digit_output (Dense)           (None, 10)           125450      ['dropout_3[0][0]']              \n",
      "                                                                                                  \n",
      " position_output (Dense)        (None, 2)            66          ['dense_14[0][0]']               \n",
      "                                                                                                  \n",
      "==================================================================================================\n",
      "Total params: 986,220\n",
      "Trainable params: 986,220\n",
      "Non-trainable params: 0\n",
      "__________________________________________________________________________________________________\n"
     ]
    }
   ],
   "source": [
    "model.summary()"
   ]
  },
  {
   "cell_type": "code",
   "execution_count": 57,
   "id": "b2ee764e",
   "metadata": {},
   "outputs": [],
   "source": [
    "model.compile(optimizer='adam',\n",
    "              loss={'digit_output': 'sparse_categorical_crossentropy',\n",
    "                    'position_output': 'mean_squared_error'},\n",
    "              metrics=['accuracy'])"
   ]
  },
  {
   "cell_type": "code",
   "execution_count": 58,
   "id": "32d4d2d4",
   "metadata": {},
   "outputs": [
    {
     "name": "stdout",
     "output_type": "stream",
     "text": [
      "Epoch 1/10\n",
      "313/313 [==============================] - 55s 172ms/step - loss: 2.0571 - digit_output_loss: 2.0542 - position_output_loss: 0.0029 - digit_output_accuracy: 0.2288 - position_output_accuracy: 0.9676 - val_loss: 1.4402 - val_digit_output_loss: 1.4388 - val_position_output_loss: 0.0014 - val_digit_output_accuracy: 0.4640 - val_position_output_accuracy: 0.9590\n",
      "Epoch 2/10\n",
      "313/313 [==============================] - 53s 170ms/step - loss: 0.9837 - digit_output_loss: 0.9826 - position_output_loss: 0.0010 - digit_output_accuracy: 0.6535 - position_output_accuracy: 0.9734 - val_loss: 0.6236 - val_digit_output_loss: 0.6229 - val_position_output_loss: 7.3914e-04 - val_digit_output_accuracy: 0.7890 - val_position_output_accuracy: 0.9700\n",
      "Epoch 3/10\n",
      "313/313 [==============================] - 53s 170ms/step - loss: 0.4757 - digit_output_loss: 0.4750 - position_output_loss: 6.5444e-04 - digit_output_accuracy: 0.8425 - position_output_accuracy: 0.9763 - val_loss: 0.4307 - val_digit_output_loss: 0.4301 - val_position_output_loss: 6.2700e-04 - val_digit_output_accuracy: 0.8620 - val_position_output_accuracy: 0.9800\n",
      "Epoch 4/10\n",
      "313/313 [==============================] - 54s 171ms/step - loss: 0.2776 - digit_output_loss: 0.2771 - position_output_loss: 5.1929e-04 - digit_output_accuracy: 0.9124 - position_output_accuracy: 0.9789 - val_loss: 0.3798 - val_digit_output_loss: 0.3793 - val_position_output_loss: 5.0967e-04 - val_digit_output_accuracy: 0.8760 - val_position_output_accuracy: 0.9770\n",
      "Epoch 5/10\n",
      "313/313 [==============================] - 53s 168ms/step - loss: 0.1848 - digit_output_loss: 0.1844 - position_output_loss: 3.6763e-04 - digit_output_accuracy: 0.9418 - position_output_accuracy: 0.9821 - val_loss: 0.3159 - val_digit_output_loss: 0.3154 - val_position_output_loss: 4.7026e-04 - val_digit_output_accuracy: 0.8960 - val_position_output_accuracy: 0.9740\n",
      "Epoch 6/10\n",
      "313/313 [==============================] - 53s 168ms/step - loss: 0.1327 - digit_output_loss: 0.1323 - position_output_loss: 3.1590e-04 - digit_output_accuracy: 0.9535 - position_output_accuracy: 0.9843 - val_loss: 0.3087 - val_digit_output_loss: 0.3083 - val_position_output_loss: 4.0117e-04 - val_digit_output_accuracy: 0.8970 - val_position_output_accuracy: 0.9770\n",
      "Epoch 7/10\n",
      "313/313 [==============================] - 53s 169ms/step - loss: 0.1007 - digit_output_loss: 0.1004 - position_output_loss: 2.4913e-04 - digit_output_accuracy: 0.9649 - position_output_accuracy: 0.9873 - val_loss: 0.3400 - val_digit_output_loss: 0.3396 - val_position_output_loss: 3.4019e-04 - val_digit_output_accuracy: 0.8920 - val_position_output_accuracy: 0.9800\n",
      "Epoch 8/10\n",
      "313/313 [==============================] - 53s 169ms/step - loss: 0.0844 - digit_output_loss: 0.0842 - position_output_loss: 2.2859e-04 - digit_output_accuracy: 0.9722 - position_output_accuracy: 0.9861 - val_loss: 0.3152 - val_digit_output_loss: 0.3148 - val_position_output_loss: 3.8748e-04 - val_digit_output_accuracy: 0.9070 - val_position_output_accuracy: 0.9820\n",
      "Epoch 9/10\n",
      "313/313 [==============================] - 53s 169ms/step - loss: 0.0763 - digit_output_loss: 0.0760 - position_output_loss: 2.0597e-04 - digit_output_accuracy: 0.9740 - position_output_accuracy: 0.9879 - val_loss: 0.3461 - val_digit_output_loss: 0.3458 - val_position_output_loss: 3.2548e-04 - val_digit_output_accuracy: 0.8950 - val_position_output_accuracy: 0.9810\n",
      "Epoch 10/10\n",
      "313/313 [==============================] - 53s 170ms/step - loss: 0.0652 - digit_output_loss: 0.0650 - position_output_loss: 2.0577e-04 - digit_output_accuracy: 0.9765 - position_output_accuracy: 0.9859 - val_loss: 0.3661 - val_digit_output_loss: 0.3657 - val_position_output_loss: 3.7565e-04 - val_digit_output_accuracy: 0.9090 - val_position_output_accuracy: 0.9840\n"
     ]
    }
   ],
   "source": [
    "history = model.fit(x_train_new, [y_train_dig, y_train_pos], epochs=10, validation_data=(x_test_new, [y_test_dig, y_test_pos]))"
   ]
  },
  {
   "cell_type": "code",
   "execution_count": 81,
   "id": "544a1110",
   "metadata": {},
   "outputs": [
    {
     "name": "stderr",
     "output_type": "stream",
     "text": [
      "WARNING:absl:Found untraced functions such as _jit_compiled_convolution_op, _jit_compiled_convolution_op, _jit_compiled_convolution_op, _update_step_xla while saving (showing 4 of 4). These functions will not be directly callable after loading.\n"
     ]
    },
    {
     "name": "stdout",
     "output_type": "stream",
     "text": [
      "INFO:tensorflow:Assets written to: ./model\\assets\n"
     ]
    },
    {
     "name": "stderr",
     "output_type": "stream",
     "text": [
      "INFO:tensorflow:Assets written to: ./model\\assets\n"
     ]
    }
   ],
   "source": [
    "model.save('./model')"
   ]
  },
  {
   "cell_type": "code",
   "execution_count": 59,
   "id": "bb00388c",
   "metadata": {},
   "outputs": [
    {
     "data": {
      "image/png": "[encoded data removed]",
      "text/plain": [
       "<Figure size 432x288 with 1 Axes>"
      ]
     },
     "metadata": {
      "needs_background": "light"
     },
     "output_type": "display_data"
    }
   ],
   "source": [
    "val_pos_acc = history.history['val_position_output_accuracy']\n",
    "train_pos_acc = history.history['position_output_accuracy']\n",
    "\n",
    "plt.plot(range(len(val_pos_acc)), val_pos_acc, label='validation_position_accuracy')\n",
    "plt.plot(range(len(train_pos_acc)), train_pos_acc, label='train_position_accuracy')\n",
    "plt.xlabel('Epochs')\n",
    "plt.ylabel('Acc')\n",
    "plt.legend()\n",
    "plt.show()"
   ]
  },
  {
   "cell_type": "code",
   "execution_count": 60,
   "id": "01b133bf",
   "metadata": {},
   "outputs": [
    {
     "data": {
      "image/png": "[encoded data removed]",
      "text/plain": [
       "<Figure size 432x288 with 1 Axes>"
      ]
     },
     "metadata": {
      "needs_background": "light"
     },
     "output_type": "display_data"
    }
   ],
   "source": [
    "val_pos_loss = history.history['val_position_output_loss']\n",
    "train_pos_loss = history.history['position_output_loss']\n",
    "# Plot the validation loss\n",
    "plt.plot(range(len(val_pos_loss)), val_pos_loss, label='validation_position_loss')\n",
    "plt.plot(range(len(train_pos_loss)), train_pos_loss, label='train_position_loss')\n",
    "plt.xlabel('Epochs')\n",
    "plt.ylabel('Loss')\n",
    "plt.legend()\n",
    "plt.show()"
   ]
  },
  {
   "cell_type": "code",
   "execution_count": 61,
   "id": "75a5c8de",
   "metadata": {},
   "outputs": [
    {
     "data": {
      "image/png": "[encoded data removed]",
      "text/plain": [
       "<Figure size 432x288 with 1 Axes>"
      ]
     },
     "metadata": {
      "needs_background": "light"
     },
     "output_type": "display_data"
    }
   ],
   "source": [
    "val_dig_acc = history.history['digit_output_accuracy']\n",
    "train_dig_acc = history.history['val_digit_output_accuracy']\n",
    "\n",
    "plt.plot(range(len(val_pos_acc)), val_dig_acc, label='validation_digit_accuracy')\n",
    "plt.plot(range(len(train_pos_acc)), train_dig_acc, label='train_digit_accuracy')\n",
    "plt.xlabel('Epochs')\n",
    "plt.ylabel('Acc')\n",
    "plt.legend()\n",
    "plt.show()"
   ]
  },
  {
   "cell_type": "code",
   "execution_count": 12,
   "id": "866cfab1",
   "metadata": {},
   "outputs": [],
   "source": [
    "x_val_new, y_val_pos = create_dataset(x_train, 11000, 12000)\n",
    "y_val_dig = y_train[11000:12000]\n",
    "x_val_new = x_val_new /255.0"
   ]
  },
  {
   "cell_type": "code",
   "execution_count": 36,
   "id": "4e825f6c",
   "metadata": {},
   "outputs": [
    {
     "name": "stdout",
     "output_type": "stream",
     "text": [
      "1/1 [==============================] - 0s 16ms/step\n",
      "Predicted: 6\n"
     ]
    },
    {
     "data": {
      "image/png": "[encoded data removed]",
      "text/plain": [
       "<Figure size 432x288 with 1 Axes>"
      ]
     },
     "metadata": {
      "needs_background": "light"
     },
     "output_type": "display_data"
    },
    {
     "name": "stdout",
     "output_type": "stream",
     "text": [
      "1/1 [==============================] - 0s 16ms/step\n",
      "Predicted: 9\n"
     ]
    },
    {
     "data": {
      "image/png": "[encoded data removed]",
      "text/plain": [
       "<Figure size 432x288 with 1 Axes>"
      ]
     },
     "metadata": {
      "needs_background": "light"
     },
     "output_type": "display_data"
    },
    {
     "name": "stdout",
     "output_type": "stream",
     "text": [
      "1/1 [==============================] - 0s 17ms/step\n",
      "Predicted: 3\n"
     ]
    },
    {
     "data": {
      "image/png": "[encoded data removed]",
      "text/plain": [
       "<Figure size 432x288 with 1 Axes>"
      ]
     },
     "metadata": {
      "needs_background": "light"
     },
     "output_type": "display_data"
    }
   ],
   "source": [
    "#Visualisation of the model performance\n",
    "for i in range(3):\n",
    "    temp = np.expand_dims(x_val_new[i], axis=0)\n",
    "    t1, t2 = model.predict(temp)\n",
    "    print(f\"Predicted: {np.argmax(t1)}\")\n",
    "    plt.imshow(x_val_new[i], cmap='gray')\n",
    "\n",
    "    plt.plot(y_val_pos[i][0] *128, y_val_pos[i][1] * 128, 'go')\n",
    "    plt.plot(t2[0][0] *128,t2[0][1] * 128, 'ro')\n",
    "    plt.show()"
   ]
  },
  {
   "cell_type": "code",
   "execution_count": 10,
   "id": "870bd5b5",
   "metadata": {},
   "outputs": [],
   "source": [
    "def findBBox(truth, pred):\n",
    "    truth = truth * 128\n",
    "    pred = pred * 128\n",
    "    truth_x1 = truth[0] - 14\n",
    "    truth_y1 = truth[1] - 14\n",
    "    truth_x2 = truth[0] + 14\n",
    "    truth_y2 = truth[1] + 14\n",
    "    \n",
    "    pred_x1 = pred[0] - 14\n",
    "    pred_y1 = pred[1] - 14\n",
    "    pred_x2 = pred[0] + 14\n",
    "    pred_y2 = pred[1] + 14 \n",
    "    \n",
    "    box1 = [truth_x1, truth_y1, truth_x2, truth_y2]\n",
    "    box2 = [pred_x1, pred_y1, pred_x2, pred_y2]\n",
    "    \n",
    "    return box1, box2\n"
   ]
  },
  {
   "cell_type": "code",
   "execution_count": 11,
   "id": "ef28cb2a",
   "metadata": {},
   "outputs": [],
   "source": [
    "def iou(truth, pred):\n",
    "    \n",
    "    box1, box2 = findBBox(truth, pred)\n",
    "    \n",
    "    x1 = max(box1[0], box2[0])\n",
    "    y1 = max(box1[1], box2[1])\n",
    "    x2 = min(box1[2], box2[2])\n",
    "    y2 = min(box1[3], box2[3])\n",
    "\n",
    "    intersection_area = max(0, x2 - x1 + 1) * max(0, y2 - y1 + 1)\n",
    "\n",
    "    box1_area = (box1[2] - box1[0] + 1) * (box1[3] - box1[1] + 1)\n",
    "    box2_area = (box2[2] - box2[0] + 1) * (box2[3] - box2[1] + 1)\n",
    "\n",
    "    union_area = box1_area + box2_area - intersection_area\n",
    "    iou = intersection_area / union_area\n",
    "\n",
    "    return iou"
   ]
  },
  {
   "cell_type": "code",
   "execution_count": 35,
   "id": "0096538f",
   "metadata": {},
   "outputs": [
    {
     "name": "stdout",
     "output_type": "stream",
     "text": [
      "Predicted: 4\n",
      "IoU: 0.832537634300265\n"
     ]
    },
    {
     "data": {
      "image/png": "[encoded data removed]",
      "text/plain": [
       "<Figure size 432x288 with 1 Axes>"
      ]
     },
     "metadata": {
      "needs_background": "light"
     },
     "output_type": "display_data"
    }
   ],
   "source": [
    "\n",
    "fig,ax = plt.subplots(1)\n",
    "ax.imshow(x_val_new[5], cmap='gray')\n",
    "dig, pos = model.predict(np.expand_dims(x_val_new[5], axis=0), verbose=0)\n",
    "box1, box2 = findBBox(y_val_pos[5], np.squeeze(pos))\n",
    "print(f\"Predicted: {np.argmax(dig)}\")\n",
    "print(f\"IoU: {iou(y_val_pos[5], np.squeeze(pos))}\")\n",
    "rect = patches.Rectangle((box1[0], box1[1]), box1[2]-box1[0], box1[3]-box1[1], linewidth=1, edgecolor='r', facecolor='none')\n",
    "rect2 = patches.Rectangle((box2[0], box2[1]), box2[2]-box2[0], box2[3]-box2[1], linewidth=1, edgecolor='g', facecolor='none')\n",
    "\n",
    "ax.add_patch(rect)\n",
    "ax.add_patch(rect2)\n",
    "\n",
    "\n",
    "plt.show()"
   ]
  },
  {
   "cell_type": "code",
   "execution_count": 33,
   "id": "cc60ba72",
   "metadata": {},
   "outputs": [
    {
     "name": "stdout",
     "output_type": "stream",
     "text": [
      "Percentege of predicted positions where the IoU is over 0.6 is: 0.945\n"
     ]
    }
   ],
   "source": [
    "iou_test = []\n",
    "for i in range(x_val_new.shape[0]):\n",
    "    t1, t2 = model.predict(np.expand_dims(x_val_new[i], axis=0), verbose=0)\n",
    "    iou_test.append(iou(y_val_pos[i], np.squeeze(t2)))\n",
    "    \n",
    "count = sum(map(lambda i: i > 0.6, iou_test))\n",
    "print(f\"Percentege of predicted positions where the IoU is over 0.6 is: {count/1000}\")"
   ]
  },
  {
   "cell_type": "code",
   "execution_count": null,
   "id": "aa4da84e",
   "metadata": {},
   "outputs": [],
   "source": []
  },
  {
   "cell_type": "code",
   "execution_count": null,
   "id": "57de5b5a",
   "metadata": {},
   "outputs": [],
   "source": []
  }
 ],
 "metadata": {
  "kernelspec": {
   "display_name": "Python 3 (ipykernel)",
   "language": "python",
   "name": "python3"
  },
  "language_info": {
   "codemirror_mode": {
    "name": "ipython",
    "version": 3
   },
   "file_extension": ".py",
   "mimetype": "text/x-python",
   "name": "python",
   "nbconvert_exporter": "python",
   "pygments_lexer": "ipython3",
   "version": "3.9.12"
  }
 },
 "nbformat": 4,
 "nbformat_minor": 5
}
